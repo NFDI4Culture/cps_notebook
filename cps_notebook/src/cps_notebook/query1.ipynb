{
 "cells": [
  {
   "cell_type": "code",
   "execution_count": 1,
   "id": "34868825-a493-429a-b144-7600570a613c",
   "metadata": {},
   "outputs": [
    {
     "data": {
      "text/html": [
       "<!DOCTYPE html>\n",
       "<html lang=\"en\">\n",
       "\n",
       "<head>\n",
       "    <meta charset=\"utf-8\">\n",
       "    <title></title>\n",
       "    <link href=\"style.css\" rel=\"stylesheet\">\n",
       "    <script src=\"script.js\"></script>\n",
       "</head>\n",
       "\n",
       "<body>\n",
       "  \n",
       "  <p>p=https://wikibase.kewl.org/prop/direct/P1 o=https://wikibase.kewl.org/entity/Q8</p>\n",
       "  \n",
       "  <p>p=https://wikibase.kewl.org/prop/direct/P3 o=https://wikibase.kewl.org/entity/Q139</p>\n",
       "  \n",
       "  <p>p=https://wikibase.kewl.org/prop/direct/P4 o=https://wikibase.kewl.org/entity/Q142</p>\n",
       "  \n",
       "  <p>p=https://wikibase.kewl.org/prop/direct/P7 o=https://www.deckenmalerei.eu/fe9592b9-a451-44ff-9f4b-eabe23c8a979</p>\n",
       "  \n",
       "  <p>p=https://wikibase.kewl.org/prop/P1 o=https://wikibase.kewl.org/entity/statement/Q140-A892FB78-A479-47D7-85A1-8FFD28EFB637</p>\n",
       "  \n",
       "  <p>p=https://wikibase.kewl.org/prop/P3 o=https://wikibase.kewl.org/entity/statement/Q140-B2B5E01D-DAA6-45BA-B793-BA427C930B51</p>\n",
       "  \n",
       "  <p>p=https://wikibase.kewl.org/prop/P4 o=https://wikibase.kewl.org/entity/statement/Q140-C05EDADD-439A-4414-9CAE-C109FE9B8656</p>\n",
       "  \n",
       "  <p>p=https://wikibase.kewl.org/prop/P7 o=https://wikibase.kewl.org/entity/statement/Q140-3C848A31-9E9F-44C2-B8DC-EF8BB19CB6E1</p>\n",
       "  \n",
       "  <p>p=http://schema.org/version o=363</p>\n",
       "  \n",
       "  <p>p=http://schema.org/dateModified o=2025-07-11T19:21:22Z</p>\n",
       "  \n",
       "  <p>p=http://schema.org/description o=cps_deckenmalerei.db, 180</p>\n",
       "  \n",
       "  <p>p=http://www.w3.org/2000/01/rdf-schema#label o=Das Eckzimmer</p>\n",
       "  \n",
       "  <p>p=http://wikiba.se/ontology#statements o=4</p>\n",
       "  \n",
       "  <p>p=http://wikiba.se/ontology#sitelinks o=0</p>\n",
       "  \n",
       "  <p>p=http://wikiba.se/ontology#identifiers o=0</p>\n",
       "  \n",
       "  <p>p=http://wikiba.se/ontology#timestamp o=2025-07-11T19:40:11Z</p>\n",
       "  \n",
       "</body>\n",
       "\n",
       "</html>\n",
       "\n",
       "<!--\n",
       "vim: shiftwidth=4 tabstop=2 softtabstop=2 expandtab\n",
       "-->"
      ],
      "text/plain": [
       "<IPython.core.display.HTML object>"
      ]
     },
     "execution_count": 1,
     "metadata": {},
     "output_type": "execute_result"
    }
   ],
   "source": [
    "# DEVELOPMENT ONLY\n",
    "from importlib import reload\n",
    "import cps_notebook.sparql\n",
    "reload(cps_notebook.sparql)\n",
    "\n",
    "# SPARQL QUERY OBJECT\n",
    "from cps_notebook.sparql import SPARQL\n",
    "s = SPARQL(\"query1\")\n",
    "\n",
    "# HTML TEMPLATE VIEW\n",
    "from IPython.display import HTML\n",
    "HTML(s.html())"
   ]
  },
  {
   "cell_type": "code",
   "execution_count": null,
   "id": "e061f589-9872-4aa1-87c3-4b5abcb3ddc3",
   "metadata": {},
   "outputs": [],
   "source": []
  }
 ],
 "metadata": {
  "kernelspec": {
   "display_name": "Python 3 (ipykernel)",
   "language": "python",
   "name": "python3"
  },
  "language_info": {
   "codemirror_mode": {
    "name": "ipython",
    "version": 3
   },
   "file_extension": ".py",
   "mimetype": "text/x-python",
   "name": "python",
   "nbconvert_exporter": "python",
   "pygments_lexer": "ipython3",
   "version": "3.11.2"
  }
 },
 "nbformat": 4,
 "nbformat_minor": 5
}
